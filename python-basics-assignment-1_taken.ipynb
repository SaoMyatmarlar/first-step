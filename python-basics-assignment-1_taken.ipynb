{
 "cells": [
  {
   "cell_type": "markdown",
   "metadata": {
    "id": "Y26YW3Mj2LHI"
   },
   "source": [
    "<figure>\n",
    "<center>\n",
    "<img src='https://raw.githubusercontent.com/alexsnowschool/Python-Basics/master/cover-ppt.png' width = '800px'/>\n",
    "</center>\n",
    "</figure>"
   ]
  },
  {
   "cell_type": "markdown",
   "metadata": {
    "id": "6VwQJVb9oQDe"
   },
   "source": [
    "## Assignment 1 (Pass >= 7)\n",
    "**Assigned Date - 5 July 2020 (9:00 PM)**\n",
    "\n",
    "**Self-Interactive Due Date - 11 July 2020 (11:59:59 AM)**\n",
    "\n",
    "**Self-Paced Due Date - Infinity**\n"
   ]
  },
  {
   "cell_type": "markdown",
   "metadata": {
    "id": "3t-IGFgS0TQT"
   },
   "source": [
    "### Description\n"
   ]
  },
  {
   "cell_type": "markdown",
   "metadata": {
    "id": "lp25lrzp08ew"
   },
   "source": [
    "In this Assignment, you have to answer all of our questions and write appropriate coding answers in already declared functions to practice how well you understood \n",
    "about previous lectures and get hands on code with small problems exercise to gain more experience about python programming language.\n",
    "\n",
    "Once you've completed the assignment,\n",
    "\n",
    "1.   Rename this file \"PythonBasics - Assignment1.ipynb\" to this file naming format (Eg, **A1 - NyanSwanAung.ipynb**)\n",
    "\n",
    "2.   Upload your renamed answer file to our google drive folder  (see [this video](https://www.alexsnowschool.org/courses/take/intro-to-python/lessons/14303017-how-to-upload-your-assignment-files-to-our-avairds-google-drive-folder) for demo)\n",
    "\n",
    "\n",
    "---\n",
    "\n",
    "\n",
    "Rules\n",
    "\n",
    "In order to complete the Assignment 1, you have to answer **ALL OF THE QUESTIONS**. Your answers will be graded and stored in our system once we view your code and your certification depends on how well you answered the Assignment questions. **Submit your answer before deadline**.\n",
    "\n",
    "Tips for answering Assignment\n",
    "\n",
    "1. Write your coding answer in related already declared functions\n",
    "2. Once you've done the coding, run the cell and see if your output matches with expected output.\n",
    "3. You can use Google to search python built-in libraries/functions and python syntax \n",
    "\n",
    "4. Start Coding! 👨‍💻 👩‍💻🤓   "
   ]
  },
  {
   "cell_type": "markdown",
   "metadata": {
    "id": "Rl7XHezP1ffk"
   },
   "source": [
    "### Example Question\n",
    "\n",
    "Write a string with this value \"Hello World\" by using `print()` function."
   ]
  },
  {
   "cell_type": "code",
   "execution_count": null,
   "metadata": {
    "colab": {
     "base_uri": "https://localhost:8080/"
    },
    "executionInfo": {
     "elapsed": 5,
     "status": "ok",
     "timestamp": 1673396898926,
     "user": {
      "displayName": "Myatmarlar Sao",
      "userId": "09617718411055233475"
     },
     "user_tz": -540
    },
    "id": "LM2AD7ob1nHV",
    "outputId": "347caeb5-7e63-4c3a-9ce6-c560813c8141"
   },
   "outputs": [
    {
     "name": "stdout",
     "output_type": "stream",
     "text": [
      "Hello World\n"
     ]
    }
   ],
   "source": [
    "def example_1():\n",
    "  #Start your coding below\n",
    "  print('Hello World')\n",
    "\n",
    "example_1()\n",
    "# Expected Output: Hello World"
   ]
  },
  {
   "cell_type": "markdown",
   "metadata": {
    "id": "Y9szuueEyZ1n"
   },
   "source": [
    "### No. 1\n",
    "\n",
    "Write a Python program which accepts the radius of a circle from the user and compute the area.\n",
    "\n",
    "**Hint** : use pi value from `math library` and search it on google"
   ]
  },
  {
   "cell_type": "code",
   "execution_count": null,
   "metadata": {
    "colab": {
     "base_uri": "https://localhost:8080/"
    },
    "executionInfo": {
     "elapsed": 1937,
     "status": "ok",
     "timestamp": 1673399410307,
     "user": {
      "displayName": "Myatmarlar Sao",
      "userId": "09617718411055233475"
     },
     "user_tz": -540
    },
    "id": "WH1z5e_Tyl7H",
    "outputId": "e6783468-6d71-4eba-c017-3eb97582ecdd"
   },
   "outputs": [
    {
     "name": "stdout",
     "output_type": "stream",
     "text": [
      "Enter the radius of a circle :  3\n",
      "r =  3.0\n",
      "Area :  28.274333882308138\n"
     ]
    }
   ],
   "source": [
    "from math import pi\n",
    "def no_1():\n",
    "  # Start your coding below\n",
    "  r = float(input('Enter the radius of a circle :  '))\n",
    "  print('r = ', r)\n",
    "  A = pi* (r**2)\n",
    "  print ('Area : ', A)\n",
    "no_1()\n",
    "# Expected Output\n",
    "# Enter the radius of a circle: user input\n",
    "# Area : result"
   ]
  },
  {
   "cell_type": "markdown",
   "metadata": {
    "id": "ibWG7NoaxMWT"
   },
   "source": [
    "### No. 2\n",
    "\n",
    "No(2_1)\n",
    "\n",
    "Write a Python program to find whether a given number (accept from the user) is even or odd, print out an appropriate message to the user.\n",
    "\n",
    "No(2_2)\n",
    "\n",
    "Write a Python program to test whether given letters(a, c) are vowels or not.\n",
    "\n",
    "**Hint** : use keyword `in`\n",
    "\n"
   ]
  },
  {
   "cell_type": "code",
   "execution_count": null,
   "metadata": {
    "colab": {
     "base_uri": "https://localhost:8080/"
    },
    "executionInfo": {
     "elapsed": 20043,
     "status": "ok",
     "timestamp": 1673399576875,
     "user": {
      "displayName": "Myatmarlar Sao",
      "userId": "09617718411055233475"
     },
     "user_tz": -540
    },
    "id": "2rJ9WFUrxRQ7",
    "outputId": "786e2d95-b64d-47d5-b4d4-62b68ae30d72"
   },
   "outputs": [
    {
     "name": "stdout",
     "output_type": "stream",
     "text": [
      "Enter an integer number: 99\n",
      "Your number is an odd number. \n",
      "Enter a word: o\n",
      "o is a vowel.\n"
     ]
    }
   ],
   "source": [
    "def no_2_1():\n",
    "  # Start your coding below\n",
    "  Output = int(input('Enter an integer number: '))\n",
    "  if (Output%2) == 0 :\n",
    "    print ('Your number is an even number. ')\n",
    "  else:\n",
    "    print ('Your number is an odd number. ')\n",
    "\n",
    "   \n",
    "def no_2_2():\n",
    "  #char1, char2 = 'a', 'c'\n",
    "  #all_vowels = 'aeiou'\n",
    "  # Start your coding below\n",
    "  char1 = input('Enter a word: ')\n",
    "  vowels = ['a','e','i','o','u']\n",
    "  if char1 in vowels :\n",
    "    print (char1, 'is a vowel.')\n",
    "  else:\n",
    "    print(char1, 'is a consonent.')\n",
    "\n",
    "no_2_1()\n",
    "# Expected Output\n",
    "# Enter a number : user input\n",
    "# This is an odd number\n",
    "\n",
    "no_2_2()\n",
    "# Expected Output\n",
    "# a is a vowel\n",
    "# c is not a vowel "
   ]
  },
  {
   "cell_type": "markdown",
   "metadata": {
    "id": "WqW6-0yzzL8Z"
   },
   "source": [
    "### No. 3\n",
    "Write a Python program to print out all even numbers from a given numbers list in the same order and stop the printing if any numbers that come after 237 in the sequence.\n",
    "\n",
    "**Hint** : search python `break` keyword on google to quit from the loop"
   ]
  },
  {
   "cell_type": "code",
   "execution_count": null,
   "metadata": {
    "colab": {
     "base_uri": "https://localhost:8080/"
    },
    "executionInfo": {
     "elapsed": 373,
     "status": "ok",
     "timestamp": 1673586917036,
     "user": {
      "displayName": "Myatmarlar Sao",
      "userId": "09617718411055233475"
     },
     "user_tz": -540
    },
    "id": "SIJ3mwcTzQJj",
    "outputId": "e9922424-f62f-44ee-da1c-21a6d356ccbf"
   },
   "outputs": [
    {
     "name": "stdout",
     "output_type": "stream",
     "text": [
      "386\n",
      "462\n",
      "418\n",
      "344\n",
      "236\n",
      "566\n",
      "978\n",
      "328\n",
      "162\n",
      "758\n",
      "918\n",
      "Output:  <function no_3 at 0x7f420ea21af0>\n"
     ]
    }
   ],
   "source": [
    "numbers = [    \n",
    "    386, 462, 47, 418, 907, 344, 236, 375, 823, 566, 597, 978, 328, 615, 953, 345, \n",
    "    399, 162, 758, 219, 918, 237, 412, 566, 826, 248, 866, 950, 626, 949, 687, 217, \n",
    "    815, 67, 104, 58, 512, 24, 892, 894, 767, 553, 81, 379, 843, 831, 445, 742, 717, \n",
    "    958,743, 527\n",
    "    ]\n",
    "\n",
    "def no_3():\n",
    "  # Start your coding below\n",
    "  for i in numbers:\n",
    "    if (i%2) == 0:\n",
    "      print(i)\n",
    "    elif i == 237 :\n",
    "      break\n",
    "      i += 1\n",
    "no_3()\n",
    "#print(\"Output: \", no_3)\n",
    "#Expected Output : 386, 462, 418, 344, .... ,758, 918  "
   ]
  },
  {
   "cell_type": "markdown",
   "metadata": {
    "id": "YcDJB666zTvg"
   },
   "source": [
    "### No. 4\n",
    "\n",
    "Write a Python program to calculate the sum of three given numbers. If the values are equal, then return thrice of their sum, if not return the sum\n",
    "\n",
    "Sample Numbers: 1, 2, 3\n",
    "\n",
    "Sample Numbers: 3, 3, 3"
   ]
  },
  {
   "cell_type": "code",
   "execution_count": null,
   "metadata": {
    "colab": {
     "base_uri": "https://localhost:8080/"
    },
    "executionInfo": {
     "elapsed": 364,
     "status": "ok",
     "timestamp": 1673586725946,
     "user": {
      "displayName": "Myatmarlar Sao",
      "userId": "09617718411055233475"
     },
     "user_tz": -540
    },
    "id": "S8ZmgXWJzVrN",
    "outputId": "87eae86f-7594-4b28-9a87-7367ea7604c8"
   },
   "outputs": [
    {
     "name": "stdout",
     "output_type": "stream",
     "text": [
      "6\n",
      "27\n"
     ]
    }
   ],
   "source": [
    "def no_4(x, y, z):\n",
    "  sum = 0\n",
    "  # Start your coding below\n",
    "  if x== y ==z :\n",
    "    a = (x+y+z)*3\n",
    "    return a\n",
    "  elif x!= y !=z:\n",
    "    b = x+y+z\n",
    "    return b\n",
    "  \n",
    "print(no_4(1, 2, 3))\n",
    "# Expected Output\n",
    "# 6\n",
    "\n",
    "print(no_4(3, 3, 3))\n",
    "# Expected Output\n",
    "# 27"
   ]
  },
  {
   "cell_type": "markdown",
   "metadata": {
    "id": "w__EYuIwzb7_"
   },
   "source": [
    "### No. 5\n",
    "\n",
    "Write a Python program which accepts a sequence of comma-separated numbers from user and generate a list and a tuple with those numbers.\n",
    "**Hint**: search python `split()` method in google\n"
   ]
  },
  {
   "cell_type": "code",
   "execution_count": null,
   "metadata": {
    "colab": {
     "base_uri": "https://localhost:8080/"
    },
    "executionInfo": {
     "elapsed": 12142,
     "status": "ok",
     "timestamp": 1673587684638,
     "user": {
      "displayName": "Myatmarlar Sao",
      "userId": "09617718411055233475"
     },
     "user_tz": -540
    },
    "id": "3ezLhb8pzdbZ",
    "outputId": "82779e94-3e67-42a6-9373-5a89dfb9a33d"
   },
   "outputs": [
    {
     "name": "stdout",
     "output_type": "stream",
     "text": [
      "Enter a sequence of numbers: 666 333 777 222\n",
      "List:  ['666', '333', '777', '222']\n",
      "Tuple:  ('666', '333', '777', '222')\n"
     ]
    }
   ],
   "source": [
    "def no_5():\n",
    "  # Start your coding below\n",
    "  numbers= input('Enter a sequence of numbers: ')\n",
    "  num = numbers.split()\n",
    "  your_list = list(num)\n",
    "  your_tuple= tuple(num)\n",
    "  print(\"List: \", your_list)\n",
    "  print(\"Tuple: \",your_tuple)\n",
    "no_5()\n",
    "# Expected Output\n",
    "# Enter some comma seperated numbers: 3, 5, 7, 23\n",
    "# List : ['3', ' 5', ' 7', ' 23'] \n",
    "# Tuple : ('3', ' 5', ' 7', ' 23')"
   ]
  },
  {
   "cell_type": "markdown",
   "metadata": {
    "id": "LGd7mr_6znKj"
   },
   "source": [
    "### No. 6\n",
    "\n",
    "Write a Python program to display the current date and time.\n",
    "After that, calculate the day difference between 11/7/2020 and today's date\n",
    "\n",
    "**Hint** : search python `datetime` built-in library in google"
   ]
  },
  {
   "cell_type": "code",
   "execution_count": null,
   "metadata": {
    "colab": {
     "base_uri": "https://localhost:8080/"
    },
    "executionInfo": {
     "elapsed": 3,
     "status": "ok",
     "timestamp": 1673663722092,
     "user": {
      "displayName": "Myatmarlar Sao",
      "userId": "09617718411055233475"
     },
     "user_tz": -540
    },
    "id": "DeSM2AXfzp-G",
    "outputId": "b8dce4bb-9ce5-4124-8a62-425055dcd11d"
   },
   "outputs": [
    {
     "name": "stdout",
     "output_type": "stream",
     "text": [
      "Today:  2023-01-14\n",
      "Day difference:  917 days, 0:00:00\n"
     ]
    }
   ],
   "source": [
    "from datetime import datetime\n",
    "def no_6():\n",
    "  # Start your coding below\n",
    "  a = date(2020,7,11)\n",
    "  b = date.today()\n",
    "  print(\"Today: \", b)\n",
    "  day_dif = b-a\n",
    "  print(\"Day difference: \", day_dif)\n",
    "  \n",
    "no_6()\n",
    "# Expected Output\n",
    "# Today's date: date\n",
    "# Day difference: date"
   ]
  },
  {
   "cell_type": "markdown",
   "metadata": {
    "id": "vfTGm5qbzu0U"
   },
   "source": [
    "### No. 7\n",
    "Write a Python program to get the difference between a given number and 17. If the given number is greater than 17, return the double of differenc or else return the difference.\n",
    "\n",
    "Given Number : 22, 14"
   ]
  },
  {
   "cell_type": "code",
   "execution_count": null,
   "metadata": {
    "colab": {
     "base_uri": "https://localhost:8080/"
    },
    "executionInfo": {
     "elapsed": 312,
     "status": "ok",
     "timestamp": 1673665036053,
     "user": {
      "displayName": "Myatmarlar Sao",
      "userId": "09617718411055233475"
     },
     "user_tz": -540
    },
    "id": "t2rBoa2zhlO9",
    "outputId": "0b1b4aa2-1755-457c-8d67-f86497cda007"
   },
   "outputs": [
    {
     "name": "stdout",
     "output_type": "stream",
     "text": [
      "10\n",
      "3\n"
     ]
    }
   ],
   "source": [
    "def no_7(given_num):\n",
    "  # Start your coding below\n",
    "  x = abs(given_num - 17)\n",
    "  if given_num > 17:\n",
    "    a = x*2\n",
    "    return a\n",
    "  else:\n",
    "    return x\n",
    "    \n",
    "\n",
    "print(no_7(22))\n",
    "# Expected Output\n",
    "# 10\n",
    "\n",
    "print(no_7(14))\n",
    "# Expected Output\n",
    "# 3"
   ]
  },
  {
   "cell_type": "markdown",
   "metadata": {
    "id": "SoH9l3m6z3N4"
   },
   "source": [
    "### No. 8\n",
    "\n",
    "Write a Python function that takes a sequence of numbers and determines whether all the numbers are different from each other and return True or False\n",
    "\n",
    "Sample Data : 1, 5, 7, 9\n",
    "\n",
    "Sample Data : 2, 4, 5, 5, 7, 9 \n",
    "\n",
    "**Hint** : `Set` do not contain repeated items"
   ]
  },
  {
   "cell_type": "code",
   "execution_count": null,
   "metadata": {
    "colab": {
     "base_uri": "https://localhost:8080/"
    },
    "executionInfo": {
     "elapsed": 298,
     "status": "ok",
     "timestamp": 1673666559537,
     "user": {
      "displayName": "Myatmarlar Sao",
      "userId": "09617718411055233475"
     },
     "user_tz": -540
    },
    "id": "_FyhNPVlz4eq",
    "outputId": "2123e90a-7850-4c9e-9b3c-e449c4d1a4d8"
   },
   "outputs": [
    {
     "name": "stdout",
     "output_type": "stream",
     "text": [
      "True\n",
      "False\n"
     ]
    }
   ],
   "source": [
    "def no_8(data):\n",
    "  # Start your coding below\n",
    "  if len(data) == len(set(data)):\n",
    "    return True\n",
    "  else:\n",
    "    return False\n",
    "\n",
    "print(no_8([1, 5, 7, 9]))\n",
    "# Expected Output\n",
    "# True\n",
    "\n",
    "print(no_8([2, 4, 5, 5, 7, 9]))\n",
    "# Expected Output\n",
    "# False"
   ]
  },
  {
   "cell_type": "markdown",
   "metadata": {
    "id": "Kv1bbkWoz_gB"
   },
   "source": [
    "### No. 9\n",
    "\n",
    "Write a Python program to find those numbers which are divisible by 7 and 5, between 1500 and 2700 (both included).\n",
    "\n",
    "**Hint** : Use `for in range()` as a loop"
   ]
  },
  {
   "cell_type": "code",
   "execution_count": 142,
   "metadata": {
    "colab": {
     "base_uri": "https://localhost:8080/"
    },
    "executionInfo": {
     "elapsed": 284,
     "status": "ok",
     "timestamp": 1673677960777,
     "user": {
      "displayName": "Myatmarlar Sao",
      "userId": "09617718411055233475"
     },
     "user_tz": -540
    },
    "id": "0x6sW0WO0A8e",
    "outputId": "256ee013-729c-4217-f696-50adcf17af7a"
   },
   "outputs": [
    {
     "name": "stdout",
     "output_type": "stream",
     "text": [
      "1505\n",
      "1540\n",
      "1575\n",
      "1610\n",
      "1645\n",
      "1680\n",
      "1715\n",
      "1750\n",
      "1785\n",
      "1820\n",
      "1855\n",
      "1890\n",
      "1925\n",
      "1960\n",
      "1995\n",
      "2030\n",
      "2065\n",
      "2100\n",
      "2135\n",
      "2170\n",
      "2205\n",
      "2240\n",
      "2275\n",
      "2310\n",
      "2345\n",
      "2380\n",
      "2415\n",
      "2450\n",
      "2485\n",
      "2520\n",
      "2555\n",
      "2590\n",
      "2625\n",
      "2660\n",
      "2695\n"
     ]
    }
   ],
   "source": [
    "def no_9():\n",
    "  # Start your coding below\n",
    "  x = range(1500,2700)\n",
    "  for i in x:\n",
    "    if (i%7)==0 and (i%5)==0 :\n",
    "      print(i)\n",
    "    else:\n",
    "      continue \n",
    "    i += 1\n",
    "no_9()\n",
    "# Expected Output\n",
    "# 1505,1540,1575,1610, ..., 2625,2660,2695 "
   ]
  },
  {
   "cell_type": "markdown",
   "metadata": {
    "id": "cGEikE6x0IAm"
   },
   "source": [
    "### No. 10\n",
    "Write a Python program to guess a number between 1 to 9.\n",
    "\n",
    "Note : User is prompted to enter a guess. If the user guesses wrong then the prompt appears again until the guess is correct, on successful guess, user will get a \"Well guessed!\" message, and the program will exit.\n",
    "\n",
    "**Hint** : Use `randint` from `random` library to get randomly generated number for target num\n",
    "\n",
    "**Hint** : Use `while loop`, see how to use while loop in lecture pdf"
   ]
  },
  {
   "cell_type": "code",
   "execution_count": null,
   "metadata": {
    "colab": {
     "base_uri": "https://localhost:8080/"
    },
    "executionInfo": {
     "elapsed": 2469,
     "status": "ok",
     "timestamp": 1673673501256,
     "user": {
      "displayName": "Myatmarlar Sao",
      "userId": "09617718411055233475"
     },
     "user_tz": -540
    },
    "id": "rUN0Zurt0Jco",
    "outputId": "ee299004-d372-40e3-f9eb-77d92be54b1c"
   },
   "outputs": [
    {
     "name": "stdout",
     "output_type": "stream",
     "text": [
      "Guess a number between 1 and 10 until you get it right: 1\n",
      "Well guessed! \n"
     ]
    }
   ],
   "source": [
    "import random\n",
    "def no_10():\n",
    "  target_num = random.randint(1,2)\n",
    "  guess_num = 0\n",
    "  # Start your coding below\n",
    "  while target_num != guess_num :\n",
    "    guess_num= int ( input('Guess a number between 1 and 10 until you get it right: '))\n",
    "    if guess_num != target_num :\n",
    "      print ('Try again. ')  \n",
    "    else:\n",
    "      print('Well guessed! ')\n",
    "      break\n",
    "  else:\n",
    "    print('Congradualation! You made it at once.')\n",
    "        \n",
    "no_10()\n",
    "# Expected Output\n",
    "# Guess a number between 1 and 10 until you get it right: user input\n",
    "# Well guessed"
   ]
  }
 ],
 "metadata": {
  "colab": {
   "provenance": []
  },
  "kernelspec": {
   "display_name": "Python 3 (ipykernel)",
   "language": "python",
   "name": "python3"
  },
  "language_info": {
   "codemirror_mode": {
    "name": "ipython",
    "version": 3
   },
   "file_extension": ".py",
   "mimetype": "text/x-python",
   "name": "python",
   "nbconvert_exporter": "python",
   "pygments_lexer": "ipython3",
   "version": "3.11.1"
  }
 },
 "nbformat": 4,
 "nbformat_minor": 1
}
