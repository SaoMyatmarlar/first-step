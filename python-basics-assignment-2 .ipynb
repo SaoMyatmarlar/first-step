{
 "cells": [
  {
   "cell_type": "markdown",
   "metadata": {
    "colab_type": "text",
    "id": "Y26YW3Mj2LHI"
   },
   "source": [
    "<figure>\n",
    "<center>\n",
    "<img src='https://raw.githubusercontent.com/alexsnowschool/Python-Basics/master/cover-ppt.png' width = '800px'/>\n",
    "</center>\n",
    "</figure>"
   ]
  },
  {
   "cell_type": "markdown",
   "metadata": {
    "colab_type": "text",
    "id": "6VwQJVb9oQDe"
   },
   "source": [
    "## Assignment 2 (pass : your grading >= 6)\n",
    "**Assigned Date - 12 July 2020 (9:30 PM)**\n",
    "\n",
    "**Self-Interactive Due Date - 18 July 2020 (11:59:59 AM)**\n",
    "\n",
    "**Self-Paced Due Date - Infinity**\n"
   ]
  },
  {
   "cell_type": "markdown",
   "metadata": {
    "colab_type": "text",
    "id": "3t-IGFgS0TQT"
   },
   "source": [
    "### Description\n"
   ]
  },
  {
   "cell_type": "markdown",
   "metadata": {
    "colab_type": "text",
    "id": "lp25lrzp08ew"
   },
   "source": [
    "In this Assignment, you have to answer all of our questions and write appropriate coding answers in already declared functions to practice how well you understood \n",
    "about previous lectures and get hands on code with small problems exercise to gain more experience about python programming language.\n",
    "\n",
    "Once you've completed the assignment,\n",
    "\n",
    "1.   Rename this file \"PythonBasics - Assignment2.ipynb\" to this file naming format (Eg, **A2 - NyanSwanAung.ipynb**)\n",
    "\n",
    "2.   Upload your renamed answer file to our google drive folder  (see [this video](https://www.alexsnowschool.org/courses/take/intro-to-python/lessons/14303017-how-to-upload-your-assignment-files-to-our-avairds-google-drive-folder) for demo)\n",
    "\n",
    "\n",
    "---\n",
    "\n",
    "\n",
    "Rules\n",
    "\n",
    "In order to complete the Assignment 1, you have to answer **ALL OF THE QUESTIONS**. Your answers will be graded and stored in our system once we view your code and your certification depends on how well you answered the Assignment questions. **Submit your answer before deadline**.\n",
    "\n",
    "Tips for answering Assignment\n",
    "\n",
    "1. Write your coding answer in related already declared functions\n",
    "2. Once you've done the coding, run the cell and see if your output matches with expected output.\n",
    "3. You can use Google to search python built-in libraries/functions and python syntax \n",
    "\n",
    "4. Start Coding! 👨‍💻 👩‍💻🤓   "
   ]
  },
  {
   "cell_type": "markdown",
   "metadata": {
    "colab_type": "text",
    "id": "Rl7XHezP1ffk"
   },
   "source": [
    "### Example Question\n",
    "\n",
    "Write a string with this value \"Hello World\" by using `print()` function."
   ]
  },
  {
   "cell_type": "code",
   "execution_count": null,
   "metadata": {
    "colab": {
     "base_uri": "https://localhost:8080/",
     "height": 34
    },
    "colab_type": "code",
    "id": "LM2AD7ob1nHV",
    "outputId": "697f605f-6c74-411a-8b29-b37d50de1f8d"
   },
   "outputs": [
    {
     "name": "stdout",
     "output_type": "stream",
     "text": [
      "Hello World\n"
     ]
    }
   ],
   "source": [
    "def example_1():\n",
    "  #Start your coding below\n",
    "  print('Hello World')\n",
    "\n",
    "example_1()\n",
    "# Expected Output: Hello World"
   ]
  },
  {
   "cell_type": "markdown",
   "metadata": {
    "colab_type": "text",
    "id": "Y9szuueEyZ1n"
   },
   "source": [
    "### No. 1\n",
    "\n",
    "Write a Python program to ask how many integers user wants to input. Then change those numbers into list. After that, find the second smallest number of that list. \n",
    "\n",
    "**Hint**: Use `sort()` method to sort integers values of your list."
   ]
  },
  {
   "cell_type": "code",
   "execution_count": 14,
   "metadata": {},
   "outputs": [
    {
     "name": "stdout",
     "output_type": "stream",
     "text": [
      "How many numbers do you want to input: 5\n",
      "\n",
      "\n",
      "Enter number at index:  0\n",
      "456\n",
      "Your list is  [456]\n",
      "Enter number at index:  1\n",
      "2345\n",
      "Your list is  [456, 2345]\n",
      "Enter number at index:  2\n",
      "46\n",
      "Your list is  [456, 2345, 46]\n",
      "Enter number at index:  3\n",
      "76\n",
      "Your list is  [46, 456, 2345, 76]\n",
      "Enter number at index:  4\n",
      "456356\n",
      "Your list is  [46, 76, 456, 2345, 456356]\n",
      "Here is your sorted list:  [46, 76, 456, 2345, 456356]\n",
      "The second smallest number from your list:  76\n"
     ]
    }
   ],
   "source": [
    "def no_1():\n",
    "    num_list= []\n",
    "    n = int(input ('How many numbers do you want to input: '))\n",
    "    print(\"\\n\")\n",
    "    for i in range(0,n):\n",
    "        print('Enter number at index: ',i)\n",
    "        item = int(input())\n",
    "        num_list.append(item)\n",
    "        print('Your list is ', num_list)\n",
    "        num_list.sort()\n",
    "        #x= min(num_list)\n",
    "    print('Here is your sorted list: ',num_list)\n",
    "    print('The second smallest number from your list: ',num_list[1])\n",
    "    \n",
    "                       \n",
    "no_1()\n",
    "\n",
    "# Expected Output\n",
    "# How many numbers do you want to input: sample userinput -> 3\n",
    "# Enter the number: input\n",
    "# Enter the number: input\n",
    "# Enter the number: input\n",
    "# Here is a list of your numbers: result\n",
    "# Here is a list of your numbers: sorted result\n",
    "# Second smallest number from the list: result"
   ]
  },
  {
   "cell_type": "markdown",
   "metadata": {
    "colab_type": "text",
    "id": "ibWG7NoaxMWT"
   },
   "source": [
    "### No. 2\n",
    "\n",
    "**No 2_1**\n",
    "\n",
    "Write a Python program to map two lists into a dictionary.\n",
    "\n",
    "Sample List 1 : [ 'red', 'green', 'blue' ]\n",
    "\n",
    "Sample List 2 : [ '#FF0000','#008000', '#0000FF' ]\n",
    "\n",
    "**Hint** : use `zip` keyword\n",
    "\n",
    "\n",
    "---\n",
    "\n",
    "\n",
    "**No 2_2**\n",
    "\n",
    "Write a Python program to combine two dictionary adding values for common keys.\n",
    "\n",
    "Sample dict 1 : a = 100, b = 200, c = 300\n",
    "\n",
    "Sample dict 2 : a = 500, b = 300, d = 100 \n",
    "\n",
    "**Hint**: Search about `Counter()` function from `collections` python built-in module"
   ]
  },
  {
   "cell_type": "code",
   "execution_count": 19,
   "metadata": {
    "colab": {},
    "colab_type": "code",
    "id": "2rJ9WFUrxRQ7"
   },
   "outputs": [
    {
     "name": "stdout",
     "output_type": "stream",
     "text": [
      "{'red': '#FF0000', 'green': '#008000', 'blue': '#0000FF'}\n",
      "Counter({'a': 600, 'b': 500, 'c': 300, 'd': 100})\n"
     ]
    }
   ],
   "source": [
    "def no_2_1():\n",
    "    List1= [ 'red', 'green', 'blue' ]\n",
    "    List2= [ '#FF0000','#008000', '#0000FF' ]\n",
    "    color_code = dict(zip(List1,List2))\n",
    "    print(color_code)\n",
    "no_2_1()\n",
    "\n",
    "# Expected Output\n",
    "# {'green': '#008000', 'blue': '#0000FF', 'red': '#FF0000'} \n",
    "from collections import Counter\n",
    "def no_2_2():\n",
    "    dict1= Counter (a = 100, b = 200, c = 300)\n",
    "    dict2= Counter (a = 500, b = 300, d = 100)\n",
    "    c = dict1+dict2\n",
    "    print(c)\n",
    "\n",
    "no_2_2()\n",
    "\n",
    "# Expected Output\n",
    "# Counter({'a': 600, 'b': 500, 'c': 300, 'd' : 100}) \n"
   ]
  },
  {
   "cell_type": "markdown",
   "metadata": {
    "colab_type": "text",
    "id": "WqW6-0yzzL8Z"
   },
   "source": [
    "### No. 3\n",
    "Write a Python program to generate and print a list of first and last 5 elements where the values are square of numbers between 1 and 20 (both included)."
   ]
  },
  {
   "cell_type": "code",
   "execution_count": 59,
   "metadata": {
    "colab": {},
    "colab_type": "code",
    "id": "SIJ3mwcTzQJj"
   },
   "outputs": [
    {
     "name": "stdout",
     "output_type": "stream",
     "text": [
      "[1, 4, 9, 16, 25, 36, 49, 64, 81, 100, 121, 144, 169, 196, 225, 256, 289, 324, 361, 400]\n",
      "First five element:  [1, 4, 9, 16, 25]\n",
      "First five element:  [256, 289, 324, 361, 400]\n"
     ]
    }
   ],
   "source": [
    "import numpy as np\n",
    "def no_3():\n",
    "  # Start your coding below\n",
    "    l= list()\n",
    "    for i in range (1,21):\n",
    "        l.append(i**2)\n",
    "    print(l)\n",
    "    print('First five element: ', l[:5])\n",
    "    print('First five element: ', l[-5:])\n",
    "         \n",
    "no_3()\n",
    "# Expected Output\n",
    "# First five elements : [1, 4, 9, 16, 25]\n",
    "# Last five elements : [256, 289, 324, 361, 400]"
   ]
  },
  {
   "cell_type": "markdown",
   "metadata": {
    "colab_type": "text",
    "id": "YcDJB666zTvg"
   },
   "source": [
    "### No. 4\n",
    "\n",
    "**No 4_1**\n",
    "\n",
    "Write a Python program to create a dictionary, from a string, with the value of 1 for all keys of the dictionary\n",
    "\n",
    "Sample string : autonomous_vehicle_AI_robotics_datascience\n",
    "\n",
    "**No 4_2**\n",
    "Write a Python program to ask a number from user and  create the multiplication table (from 1 to 12) of that  number."
   ]
  },
  {
   "cell_type": "code",
   "execution_count": 45,
   "metadata": {
    "colab": {},
    "colab_type": "code",
    "id": "S8ZmgXWJzVrN"
   },
   "outputs": [
    {
     "name": "stdout",
     "output_type": "stream",
     "text": [
      "Output:  {'a': 1, 'u': 1, 't': 1, 'o': 1, 'n': 1, 'm': 1, 's': 1, '_': 1, 'v': 1, 'e': 1, 'h': 1, 'i': 1, 'c': 1, 'l': 1, 'A': 1, 'I': 1, 'r': 1, 'b': 1, 'd': 1}\n",
      "Enter a number for multiplication table: 99\n",
      "99  x  1  =  99\n",
      "99  x  2  =  198\n",
      "99  x  3  =  297\n",
      "99  x  4  =  396\n",
      "99  x  5  =  495\n",
      "99  x  6  =  594\n",
      "99  x  7  =  693\n",
      "99  x  8  =  792\n",
      "99  x  9  =  891\n",
      "99  x  10  =  990\n",
      "99  x  11  =  1089\n",
      "99  x  12  =  1188\n"
     ]
    }
   ],
   "source": [
    "import collections\n",
    "def no_4_1():\n",
    "  # Start your coding below\n",
    "    sen= ['autonomous_vehicle_AI_robotics_datascience']\n",
    "    track = 1\n",
    "    for word in sen:\n",
    "        result={}\n",
    "        for chara in word:\n",
    "            if chara not in result:\n",
    "                result[chara]=track\n",
    "        print('Output: ', result)\n",
    "no_4_1()\n",
    "    \n",
    "\n",
    "# Expected output\n",
    "# {'a': 1, 'u': 1, 't': 1, 'o': 1, 'n': 1, 'm': 1, 's': 1, '_': 1, 'v': 1, \n",
    "# 'e': 1, 'h': 1, 'i': 1, 'c': 1, 'l': 1, 'A': 1, 'I': 1, 'r': 1,\n",
    "# 'b': 1, 'd': 1 }\n",
    "\n",
    "def no_4_2():\n",
    "  #Start your coding below\n",
    "    num = 12\n",
    "    num = int(input('Enter a number for multiplication table: '))\n",
    "    for i in range(1,13):\n",
    "        print(num,' x ',i,' = ', num*i)\n",
    "    \n",
    "no_4_2()\n",
    "\n",
    "# Expected output\n",
    "# Enter a number for multiplication table: user-input\n",
    "\n",
    "# 3 x 1 = 3\n",
    "# 3 x 2 = 6\n",
    "# 3 x 3 = 9\n",
    "# 3 x 4 = 12\n",
    "# 3 x 5 = 15\n",
    "# 3 x 6 = 18\n",
    "# 3 x 7 = 21\n",
    "# 3 x 8 = 24\n",
    "# 3 x 9 = 27\n",
    "# 3 x 10 = 30\n",
    "# 3 x 11 = 33\n",
    "# 3 x 12 = 36\n"
   ]
  },
  {
   "cell_type": "markdown",
   "metadata": {
    "colab_type": "text",
    "id": "w__EYuIwzb7_"
   },
   "source": [
    "### No. 5\n",
    "\n",
    "**No 5_1**\n",
    "\n",
    "Write a Python program that accepts a string and calculate the total number of digits and letters.\n",
    "\n",
    "Sample data : 3blue1brown\n",
    "\n",
    "**Hint**: search `isdigit()` and `isalpha()` which are python built-in functions\n",
    "\n",
    "**No 5_2**\n",
    "\n",
    "Write a Python program to check whether a character is a vowel or consonant. Take character input from user.\n"
   ]
  },
  {
   "cell_type": "code",
   "execution_count": 14,
   "metadata": {
    "colab": {},
    "colab_type": "code",
    "id": "3ezLhb8pzdbZ"
   },
   "outputs": [
    {
     "name": "stdout",
     "output_type": "stream",
     "text": [
      "Type anything: 3blue1brown\n",
      "Letters:  9\n",
      "Digits:  2\n",
      "Others:  0\n",
      "Enter a alphabet: k\n",
      "k  is a consonant.\n"
     ]
    }
   ],
   "source": [
    "def no_5_1():\n",
    "  # Start your coding below\n",
    "    word = input('Type anything: ')\n",
    "    letters = sum(i.isalpha() for i in word)\n",
    "    digits = sum(i.isdigit() for i in word)\n",
    "    space = sum(i.isspace() for i in word)\n",
    "    others= len(word) - letters - digits - space\n",
    "    print ('Letters: ', letters)\n",
    "    print ('Digits: ', digits)\n",
    "    print('Others: ', others)\n",
    "no_5_1()\n",
    "\n",
    "# Expected Output\n",
    "# Input a string: sample data\n",
    "# Letters: 9 \n",
    "# Digits: 2\n",
    "\n",
    "def no_5_2():\n",
    "    # Start your coding below\n",
    "    c= input('Enter a alphabet: ')\n",
    "    vowels = ['a','e','i','o','u']\n",
    "    if c is vowels:\n",
    "        print(c,' is a vowel.')\n",
    "    else:\n",
    "        print(c,' is a consonant.')\n",
    "    \n",
    "no_5_2()\n",
    "\n",
    "# Expected output\n",
    "# Enter a character: user-input\n",
    "# user-input is a vowel or consonant (depending on user input)"
   ]
  },
  {
   "cell_type": "markdown",
   "metadata": {
    "colab_type": "text",
    "id": "LGd7mr_6znKj"
   },
   "source": [
    "### No. 6\n",
    "\n",
    "**No 6_1**\n",
    "\n",
    "Write a Python program to create a **lambda function** that adds 15 to a given number passed in as an argument. \n",
    "\n",
    "Given argument : 10\n",
    "\n",
    "Also create a lambda function that multiplies argument x with argument y and print the result. \n",
    "\n",
    "Given argument x : 12\n",
    "\n",
    "Given argument y : 4\n",
    "\n",
    "**No 6_2**\n",
    "Write a Python program to create a function that takes one argument, and that argument will be multiplied with 6 using \n",
    "**Lambda**. \n",
    "\n",
    "Given argument : 6"
   ]
  },
  {
   "cell_type": "code",
   "execution_count": 27,
   "metadata": {
    "colab": {},
    "colab_type": "code",
    "id": "DeSM2AXfzp-G"
   },
   "outputs": [
    {
     "name": "stdout",
     "output_type": "stream",
     "text": [
      "25\n",
      "48\n",
      "36\n"
     ]
    }
   ],
   "source": [
    "# Start your coding below\n",
    "e = lambda a: a+15\n",
    "print(e(10))\n",
    "q =lambda x,y:x*y\n",
    "print(q(12,4))\n",
    "\n",
    "# Expected Output\n",
    "# First question's ans: 25\n",
    "# Second question's ans: 48\n",
    "\n",
    "def no_6_2(n):\n",
    "    return lambda x : x*n #<- write your expression, left side,  before # sign\n",
    "my_num = no_6_2(6) \n",
    "print(my_num(6))\n",
    "  \n",
    "# Expected Output\n",
    "# 36"
   ]
  },
  {
   "cell_type": "markdown",
   "metadata": {
    "colab_type": "text",
    "id": "vfTGm5qbzu0U"
   },
   "source": [
    "### No. 7\n",
    "Write a Python script to display the various Date Time formats.\n",
    "\n",
    "a) Current date and time\n",
    "\n",
    "b) Current year\n",
    "\n",
    "c) Month of year\n",
    "\n",
    "d) Week number of the year\n",
    "\n",
    "e) Weekday of the week\n",
    "\n",
    "f) Day of year\n",
    "\n",
    "g) Day of the month\n",
    "\n",
    "h) Day of week\n",
    "\n",
    "**Hint**: Search datetime library in google. You will need to use some of that library's functions.\n"
   ]
  },
  {
   "cell_type": "code",
   "execution_count": 70,
   "metadata": {
    "colab": {},
    "colab_type": "code",
    "id": "t2rBoa2zhlO9"
   },
   "outputs": [
    {
     "name": "stdout",
     "output_type": "stream",
     "text": [
      "Current date and time:  2023-01-21 11:43:54.432493\n",
      "Current year:  2023\n",
      "Month of year:  January\n",
      "Week number of the year:  3\n",
      "Weekday of the week:  5\n",
      "Day of year:  21\n",
      "Day of the month:  21\n",
      "Day of week:  Sunday:  Saturday\n"
     ]
    }
   ],
   "source": [
    "from datetime import datetime\n",
    "import calendar\n",
    "def no_7():\n",
    "  # Start your coding below\n",
    "    today_date = datetime.today()\n",
    "    print('Current date and time: ',today_date)\n",
    "    print ('Current year: ', today_date.year)\n",
    "    \n",
    "    this_month = today_date.strftime(\"%B\")\n",
    "    print('Month of year: ',this_month)\n",
    "    \n",
    "    year,week_num,day_of_week = today_date.isocalendar()  # Using isocalendar() function\n",
    "    print('Week number of the year: ', str(week_num) )\n",
    "    print('Weekday of the week: ',today_date.weekday())\n",
    "    \n",
    "    #day_of_year = datetime.now().timetuple().tm_yday\n",
    "    print('Day of year: ',datetime.now().timetuple().tm_yday)\n",
    "    #d.strftime(\"%d\")\n",
    "    print('Day of the month: ',today_date.strftime(\"%d\"))\n",
    "    #dt.strftime('%A')\n",
    "    print('Day of week:  Sunday: ',today_date.strftime('%A'))    \n",
    "    \n",
    "no_7()\n",
    "\n",
    "# Expected output\n",
    "\n",
    "# Current date and time:  2020-07-12 18:00:12.316770\n",
    "# Current year:  2020\n",
    "# Month of year:  July\n",
    "# Week number of the year:  27\n",
    "# Weekday of the week:  0\n",
    "# Day of year:  194\n",
    "# Day of the month :  12\n",
    "# Day of week:  Sunday \n"
   ]
  },
  {
   "cell_type": "markdown",
   "metadata": {
    "colab_type": "text",
    "id": "SoH9l3m6z3N4"
   },
   "source": [
    "### No. 8\n",
    "\n",
    "Write a Python function that takes a number as a parameter and check if the number is prime or not.\n",
    "\n",
    "**Hint** : A prime number (or a prime) is a natural number greater than 1 and that has no positive divisors other than 1 and itself.\n",
    "\n",
    "![alt text](https://www.w3resource.com/w3r_images/prime-number.png) \n",
    "\n",
    "photo resource - https://wwww.w3resource.com/w3r_images/prime-number.png"
   ]
  },
  {
   "cell_type": "code",
   "execution_count": 89,
   "metadata": {
    "colab": {},
    "colab_type": "code",
    "id": "_FyhNPVlz4eq"
   },
   "outputs": [
    {
     "name": "stdout",
     "output_type": "stream",
     "text": [
      "Write a number: 456\n",
      "False.  456  is not a prime number.\n",
      "2  times 228 is  456\n"
     ]
    }
   ],
   "source": [
    "# Start your coding below\n",
    "def test_prime(n):\n",
    "    n = int(input('Write a number: '))\n",
    "    if n ==1 :\n",
    "        print('Flase. ',n,' is not a prime number.')\n",
    "    elif n > 1:\n",
    "        for i in range (2,n):\n",
    "            if n%i==0:\n",
    "                print ('False. ',n,' is not a prime number.')\n",
    "                print(i,' times',n//i, 'is ',n)\n",
    "                break\n",
    "        else:\n",
    "            print('True. ',n,' is a prime number.')\n",
    "    else:\n",
    "        print('False. ',n,' is not a prime number.')      \n",
    "                     \n",
    "test_prime(n) \n",
    "\n",
    "# Expected Output\n",
    "# True/ False (if the input is 9, it will return false)"
   ]
  },
  {
   "cell_type": "markdown",
   "metadata": {
    "colab_type": "text",
    "id": "Kv1bbkWoz_gB"
   },
   "source": [
    "### No. 9\n",
    "\n",
    "Write a Python program to create a class name with **Solution**. Inside the class, write a function that reverse a string word by word.\n",
    "\n",
    "Sample String - avairds python basics\n",
    "\n",
    "**Hint**: Search `join()` and `split()` method in google"
   ]
  },
  {
   "cell_type": "code",
   "execution_count": 18,
   "metadata": {
    "colab": {},
    "colab_type": "code",
    "id": "0x6sW0WO0A8e"
   },
   "outputs": [
    {
     "name": "stdout",
     "output_type": "stream",
     "text": [
      "basics python avairds\n"
     ]
    }
   ],
   "source": [
    "# Start your coding here\n",
    "string = 'avairds python basics'\n",
    "s = string.split(' ')\n",
    "print(\" \".join(reversed(s)))\n",
    "\n",
    "# Expected Output\n",
    "# basics python avairds"
   ]
  },
  {
   "cell_type": "markdown",
   "metadata": {
    "colab_type": "text",
    "id": "cGEikE6x0IAm"
   },
   "source": [
    "### No. 10_1\n",
    "Note : Before you do this assignment, please take a look at OOP coding exercise first. \n",
    "\n",
    "Create a python program using OOP that uses Class, Object and Methods.\n",
    "\n",
    "Create a parent class, name with **Bird**\n",
    "\n",
    "  *   It has the following instance attributes (name, age, color)\n",
    "  *   It has the following instance methods (sing, dance, show_color, show_age)\n",
    "  * Declare instance attributes with `__init__` method using `self`\n",
    "  * In **sing method**, print 'Rio sings Happy' using `self.name `and `song variable`\n",
    "  * In **dance method**, print 'Rio is now dancing' using `self.name`\n",
    "  * In **show_color method**, print 'Rio has blue feathers' using `self.name` and `self.color`\n",
    "  * In **show_age method**, print 'Rio is 1 year old' using `self.name` and `self.age`\n",
    "  * After that, instantiate an object **blu** of class **Bird** \n",
    "  * Then, call our **all** instance methods\n",
    "\n",
    "\n",
    "Sample instance attributes' values - Rio, 1, blue\n",
    "\n",
    "Sample sing mehthod's parameter value - Happy\n",
    "\n",
    "**Big Hint**: \n",
    "\n",
    "For sing method, here's a sample code : \n",
    "  \n",
    "```\n",
    "def sing(self, song):\n",
    "        return \"{} sings {}\".format(self.name, song)\n",
    "```\n",
    "\n",
    "For show_age method, here's a sample code : \n",
    "  \n",
    "```\n",
    "def show_age(self):\n",
    "        return \"{} is {} year old\".format(self.name, self.age)\n",
    "```\n",
    "\n",
    "For instantiating an object **blu** of class **Bird**, \n",
    "  \n",
    "```\n",
    "blu = Bird()\n",
    "```\n",
    "\n",
    "Do step by step as mentioned above and you will be able to code easily 😄\n",
    "\n"
   ]
  },
  {
   "cell_type": "code",
   "execution_count": 6,
   "metadata": {
    "colab": {},
    "colab_type": "code",
    "id": "rUN0Zurt0Jco"
   },
   "outputs": [
    {
     "name": "stdout",
     "output_type": "stream",
     "text": [
      "Rio sings Happy\n",
      "Rio is now dancing.\n",
      "Rio has blue feathers.\n",
      "Rio is 1 year old.\n"
     ]
    }
   ],
   "source": [
    "# Start your coding below\n",
    "\n",
    "# parent class\n",
    "class Bird:\n",
    "    name = \"\"\n",
    "    age = 0\n",
    "\n",
    "    # instance attributes\n",
    "    def __init__(self,name,age,color):\n",
    "        self.name = name\n",
    "        self.age = age\n",
    "        self.color = color\n",
    "         \n",
    "    # instance method\n",
    "    def sing(self,song):\n",
    "        self.song = song\n",
    "        print('{} sings {}'.format(self.name, song)) \n",
    "    def show_age(self,age):\n",
    "        self.age = age   \n",
    "        print(\"{} is {} year old.\".format(self.name,self.age) ) \n",
    "    def dance_method(self,dance):\n",
    "        self.dance= dance\n",
    "        print(\"{} is now {}.\".format(self.name,self.dance))\n",
    "    def show_color_method(self,color):\n",
    "        self.color= color\n",
    "        print(\"{} has {} feathers.\".format(self.name,self.color))\n",
    "# instantiate the object\n",
    "#blu = Bird()\n",
    "#blu_name = obj.name\n",
    "#blu_age = obj.age\n",
    "#blu_color = obj.color\n",
    "\n",
    "# call all of the instance methods -> sing(), dance(), show_color(), show_age()\n",
    "rio = Bird('Rio',1,'Blue')\n",
    "rio.sing(\"Happy\")\n",
    "rio.dance_method(\"dancing\")\n",
    "rio.show_color_method(\"blue\")\n",
    "rio.show_age(\"1\")\n",
    "\n",
    "# Expected output\n",
    "# Rio sings 'Happy'\n",
    "# Rio is now dancing\n",
    "# Rio has blue feathers\n",
    "# Rio is 1 year old"
   ]
  },
  {
   "cell_type": "markdown",
   "metadata": {
    "colab_type": "text",
    "id": "Hgi_laisqbXC"
   },
   "source": [
    "### No 10_2\n",
    "\n",
    "Note : Before you do this assignment, please take a look at OOP coding exercise first. \n",
    "\n",
    "Create a python program using Inheritance.\n",
    "\n",
    "After you've created parent class **Bird**, create its child class, name with **Penguin**\n",
    "\n",
    "\n",
    "  1.   Inherit Bird class's attributes and methods.\n",
    "  2.   Run the` __init__()` method of the parent class inside the child class using `super().__init__()`.\n",
    "  3.   After that, instantiate an object **peggy** of class **Penguin** \n",
    "  4.  Then, call our parent's instance method `dance()`\n",
    "\n",
    "Sample instance attributes' values - Peggy, 10, black and white\n",
    "\n",
    "If you get lost, [here's the reference link](https://www.programiz.com/python-programming/object-oriented-programming)\n"
   ]
  },
  {
   "cell_type": "code",
   "execution_count": 9,
   "metadata": {
    "colab": {},
    "colab_type": "code",
    "id": "msuIJTvBqiuD"
   },
   "outputs": [
    {
     "name": "stdout",
     "output_type": "stream",
     "text": [
      "Peggy is now dancing.\n"
     ]
    }
   ],
   "source": [
    "# child class\n",
    "class Penguin(Bird):\n",
    "\n",
    "\n",
    "    # instance attributes from parent class\n",
    "    def __init__(self,name,age,color):\n",
    "        # call super() function\n",
    "        super().__init__(name,age,color)\n",
    "        pass\n",
    "\n",
    "# instantiate the object\n",
    "\n",
    "\n",
    "\n",
    "# call your instance method --> dance()\n",
    "\n",
    "peggy = Penguin('Peggy',1,'Black')\n",
    "peggy.dance_method(\"dancing\")\n",
    "# Expected Output\n",
    "# Peggy is now dancing\n"
   ]
  },
  {
   "cell_type": "code",
   "execution_count": 4,
   "metadata": {},
   "outputs": [
    {
     "data": {
      "text/plain": [
       "13"
      ]
     },
     "execution_count": 4,
     "metadata": {},
     "output_type": "execute_result"
    }
   ],
   "source": [
    "'sao myatmarlar'.rfind('r')"
   ]
  },
  {
   "cell_type": "code",
   "execution_count": 6,
   "metadata": {},
   "outputs": [
    {
     "data": {
      "text/plain": [
       "False"
      ]
     },
     "execution_count": 6,
     "metadata": {},
     "output_type": "execute_result"
    }
   ],
   "source": [
    "'sch-ool'.isalpha()"
   ]
  },
  {
   "cell_type": "code",
   "execution_count": 15,
   "metadata": {},
   "outputs": [
    {
     "name": "stdout",
     "output_type": "stream",
     "text": [
      "Letters:  9\n",
      "Digits:  2\n",
      "Others:  1\n"
     ]
    }
   ],
   "source": [
    "word = '3blue=1brown'\n",
    "letters = sum(i.isalpha() for i in word)\n",
    "digits = sum(i.isdigit() for i in word)\n",
    "space = sum(i.isspace() for i in word)\n",
    "others= len(word) - letters - digits - space\n",
    "print ('Letters: ', letters)\n",
    "print ('Digits: ', digits)\n",
    "print('Others: ', others)"
   ]
  },
  {
   "cell_type": "code",
   "execution_count": 51,
   "metadata": {},
   "outputs": [
    {
     "name": "stdout",
     "output_type": "stream",
     "text": [
      "Current Month Full Name: Jan\n",
      "Current Month Abbreviated Name: Jan\n",
      "Current Month with Decimal Number : 01\n"
     ]
    }
   ],
   "source": [
    "from datetime import datetime\n",
    "import calendar\n",
    "  \n",
    "today = datetime.now()\n",
    "    \n",
    "month1 = today.strftime(\"%b\")\n",
    "print(\"Current Month Full Name:\", month1)\n",
    "  \n",
    "month2 = today.strftime(\"%b\")\n",
    "print(\"Current Month Abbreviated Name:\", month2)\n",
    "  \n",
    "month3 = today.strftime(\"%m\")\n",
    "print(\"Current Month with Decimal Number :\", month3)"
   ]
  },
  {
   "cell_type": "code",
   "execution_count": 77,
   "metadata": {},
   "outputs": [
    {
     "name": "stdout",
     "output_type": "stream",
     "text": [
      "Write a number: 9\n",
      "9  is not a prime number.\n",
      "3  times is  9\n"
     ]
    }
   ],
   "source": [
    "n = int(input('Write a number: '))\n",
    "if n ==1 :\n",
    "    print(n,' is not a prime number.')\n",
    "elif n > 1:\n",
    "    for i in range (2,n):\n",
    "        if n%i==0:\n",
    "            print (n,' is not a prime number.')\n",
    "            print(i,' times is ',n)\n",
    "            break\n",
    "    else:\n",
    "            print(n,' is a prime number.')\n",
    "else:\n",
    "    print(n,' is not a prime number.')   "
   ]
  }
 ],
 "metadata": {
  "colab": {
   "collapsed_sections": [
    "3t-IGFgS0TQT",
    "Rl7XHezP1ffk",
    "Y9szuueEyZ1n",
    "ibWG7NoaxMWT",
    "WqW6-0yzzL8Z",
    "YcDJB666zTvg",
    "w__EYuIwzb7_",
    "LGd7mr_6znKj",
    "vfTGm5qbzu0U",
    "SoH9l3m6z3N4",
    "Kv1bbkWoz_gB",
    "cGEikE6x0IAm",
    "Hgi_laisqbXC"
   ],
   "name": "Python Basics_Assignment 2 .ipynb",
   "provenance": []
  },
  "kernelspec": {
   "display_name": "Python 3 (ipykernel)",
   "language": "python",
   "name": "python3"
  },
  "language_info": {
   "codemirror_mode": {
    "name": "ipython",
    "version": 3
   },
   "file_extension": ".py",
   "mimetype": "text/x-python",
   "name": "python",
   "nbconvert_exporter": "python",
   "pygments_lexer": "ipython3",
   "version": "3.11.1"
  }
 },
 "nbformat": 4,
 "nbformat_minor": 1
}
